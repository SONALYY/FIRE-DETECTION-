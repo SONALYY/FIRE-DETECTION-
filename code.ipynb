{
 "cells": [
  {
   "cell_type": "code",
   "execution_count": 1,
   "metadata": {},
   "outputs": [
    {
     "name": "stdout",
     "output_type": "stream",
     "text": [
      "_mask_1.png\n"
     ]
    }
   ],
   "source": [
    "s=\"benign (163)_mask_1.png\"\n",
    "print(s[-11:])"
   ]
  },
  {
   "cell_type": "code",
   "execution_count": 6,
   "metadata": {},
   "outputs": [
    {
     "ename": "ModuleNotFoundError",
     "evalue": "No module named 'numpy'",
     "output_type": "error",
     "traceback": [
      "\u001b[1;31m---------------------------------------------------------------------------\u001b[0m",
      "\u001b[1;31mModuleNotFoundError\u001b[0m                       Traceback (most recent call last)",
      "Cell \u001b[1;32mIn[6], line 1\u001b[0m\n\u001b[1;32m----> 1\u001b[0m \u001b[39mimport\u001b[39;00m \u001b[39mnumpy\u001b[39;00m \u001b[39mas\u001b[39;00m \u001b[39mnp\u001b[39;00m\n\u001b[0;32m      2\u001b[0m \u001b[39mimport\u001b[39;00m \u001b[39mcv2\u001b[39;00m\n\u001b[0;32m      3\u001b[0m \u001b[39mimport\u001b[39;00m \u001b[39mmatplotlib\u001b[39;00m\u001b[39m.\u001b[39;00m\u001b[39mpyplot\u001b[39;00m \u001b[39mas\u001b[39;00m \u001b[39mplt\u001b[39;00m\n",
      "\u001b[1;31mModuleNotFoundError\u001b[0m: No module named 'numpy'"
     ]
    }
   ],
   "source": [
    "import numpy as np\n",
    "import cv2\n",
    "import matplotlib.pyplot as plt\n",
    "import os\n",
    "# read original image\n",
    "for folder in os.listdir('./train'):\n",
    "    for imgs in os.listdir('./train/'+folder):\n",
    "        if imgs[-9:]=='_mask.png':\n",
    "            continue\n",
    "        elif imgs[-11:]=='_mask_1.png':\n",
    "            continue\n",
    "        elif imgs[-11:]=='_mask_2.png':\n",
    "            continue\n",
    "\n",
    "        oimg =cv2.imread('./train/'+folder+'/'+imgs)\n",
    "        print(imgs)\n",
    "        image = cv2.imread('./train/'+folder+'/'+imgs[:-4]+'_mask.png')\n",
    "        print('./train/'+folder+'/'+imgs[:-4]+'_mask.png')\n",
    "        (b, g, r) = cv2.split(image)\n",
    "        size=image.size\n",
    "        print(size)\n",
    "        ret2, thresh2 = cv2.threshold(b, 150, 255, cv2.THRESH_BINARY)\n",
    "        img = cv2.cvtColor(image, cv2.COLOR_BGR2GRAY)\n",
    "\n",
    "        # converting BGR to HSV\n",
    "        ret, thresh3 = cv2.threshold(img, 23, 255, cv2.THRESH_BINARY_INV)      \n",
    "        titles=['image','thresh2','thresh3']\n",
    "        images=[image,thresh2 ,thresh3]\n",
    "        imgAdd1=cv2.addWeighted(thresh2,0.8 ,thresh3,0.2,0)\n",
    "        imgAdd1=cv2.cvtColor(imgAdd1,cv2.COLOR_GRAY2BGR)\n",
    "        imgAdd2=cv2.addWeighted(image,0.8,imgAdd1,0.2,0)\n",
    "        imgAdd3=cv2.addWeighted(oimg,0.7,imgAdd2,0.3,0)\n",
    "        cv2.waitKey()\n",
    "        directory = './new_train/'+folder+'/'\n",
    "        filename = directory+imgs\n",
    "        cv2.imwrite(filename,imgAdd3)\n"
   ]
  },
  {
   "cell_type": "code",
   "execution_count": null,
   "metadata": {},
   "outputs": [],
   "source": []
  }
 ],
 "metadata": {
  "kernelspec": {
   "display_name": "Python 3",
   "language": "python",
   "name": "python3"
  },
  "language_info": {
   "codemirror_mode": {
    "name": "ipython",
    "version": 3
   },
   "file_extension": ".py",
   "mimetype": "text/x-python",
   "name": "python",
   "nbconvert_exporter": "python",
   "pygments_lexer": "ipython3",
   "version": "3.11.3"
  },
  "orig_nbformat": 4
 },
 "nbformat": 4,
 "nbformat_minor": 2
}
